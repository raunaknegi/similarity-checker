{
 "cells": [
  {
   "cell_type": "code",
   "execution_count": 22,
   "metadata": {
    "_cell_guid": "b1076dfc-b9ad-4769-8c92-a6c4dae69d19",
    "_uuid": "8f2839f25d086af736a60e9eeb907d3b93b6e0e5",
    "execution": {
     "iopub.execute_input": "2021-06-08T15:34:00.820767Z",
     "iopub.status.busy": "2021-06-08T15:34:00.820449Z",
     "iopub.status.idle": "2021-06-08T15:34:00.861793Z",
     "shell.execute_reply": "2021-06-08T15:34:00.860665Z",
     "shell.execute_reply.started": "2021-06-08T15:34:00.820710Z"
    }
   },
   "outputs": [],
   "source": [
    "import numpy as np \n",
    "import nltk\n",
    "from random import randint\n",
    "import torch\n",
    "from models import InferSent\n",
    "from sklearn.metrics.pairwise import cosine_similarity"
   ]
  },
  {
   "cell_type": "code",
   "execution_count": 21,
   "metadata": {
    "_cell_guid": "79c7e3d0-c299-4dcb-8224-4455121ee9b0",
    "_uuid": "d629ff2d2480ee46fbb7e2d37f6b5fab8052498a",
    "execution": {
     "iopub.execute_input": "2021-06-08T15:16:57.203197Z",
     "iopub.status.busy": "2021-06-08T15:16:57.202885Z",
     "iopub.status.idle": "2021-06-08T15:16:57.796133Z",
     "shell.execute_reply": "2021-06-08T15:16:57.795140Z",
     "shell.execute_reply.started": "2021-06-08T15:16:57.203138Z"
    }
   },
   "outputs": [],
   "source": [
    "def Infersent(document1,document2):\n",
    "\n",
    "    MODEL_PATH = \"infersent1.pkl\"\n",
    "    params_model = {'bsize': 64, 'word_emb_dim': 300, 'enc_lstm_dim': 2048,\n",
    "                    'pool_type': 'max', 'dpout_model': 0.0, 'version': model_version}\n",
    "    model = InferSent(params_model)\n",
    "    model.load_state_dict(torch.load(MODEL_PATH))\n",
    "    \n",
    "    use_cuda = True\n",
    "    model = model.cuda() if use_cuda else model\n",
    "    W2V_PATH = '/glove/glove.840B.300d.txt'\n",
    "    model.set_w2v_path(W2V_PATH)\n",
    "    \n",
    "    model.build_vocab_k_words(K=100000)\n",
    "    \n",
    "    sentences=[document1,document2]\n",
    "    embeddings = model.encode(sentences, bsize=128, tokenize=False, verbose=True)\n",
    "    score=cosine_similarity(embeddings[0].reshape(-1,1),embeddings[1].reshape(-1,1)))\n",
    "    return np.mean(score)"
   ]
  }
 ],
 "metadata": {
  "kernelspec": {
   "display_name": "Python 3",
   "language": "python",
   "name": "python3"
  },
  "language_info": {
   "codemirror_mode": {
    "name": "ipython",
    "version": 3
   },
   "file_extension": ".py",
   "mimetype": "text/x-python",
   "name": "python",
   "nbconvert_exporter": "python",
   "pygments_lexer": "ipython3",
   "version": "3.7.4"
  }
 },
 "nbformat": 4,
 "nbformat_minor": 4
}
